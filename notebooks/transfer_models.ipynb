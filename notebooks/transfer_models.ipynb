{
 "cells": [
  {
   "cell_type": "code",
   "execution_count": 3,
   "metadata": {},
   "outputs": [],
   "source": [
    "import shutil\n",
    "import os"
   ]
  },
  {
   "cell_type": "code",
   "execution_count": 11,
   "metadata": {},
   "outputs": [],
   "source": [
    "source = [\n",
    "    \"/home/anees.hashmi/ray_results/train_ray_2023-05-08_02-45-55/train_ray_efc9f_00001_1_lr=0.0016,num_layers=12,sequence_length=56_2023-05-08_02-51-54\",\n",
    "    \"/home/anees.hashmi/ray_results/train_ray_2023-05-08_02-47-03/train_ray_1ba11_00011_11_lr=0.0013,num_layers=4,sequence_length=14_2023-05-08_03-06-17\",\n",
    "\n",
    "    \"/home/anees.hashmi/ray_results/train_ray_2023-05-08_02-51-31/train_ray_b856c_00013_13_lr=0.0001,num_layers=4,sequence_length=38_2023-05-08_02-52-09\",\n",
    "    \"/home/anees.hashmi/ray_results/train_ray_2023-05-08_03-59-42/train_ray_3ec7c_00004_4_lr=0.0005,num_layers=4,sequence_length=38_2023-05-08_04-24-33\",\n",
    "\n",
    "    \"/home/anees.hashmi/ray_results/train_ray_2023-05-08_02-49-11/train_ray_65717_00010_10_lr=0.0030,num_layers=4,sequence_length=38_2023-05-08_02-51-00\",\n",
    "    \"/home/anees.hashmi/ray_results/train_ray_2023-05-08_02-56-57/train_ray_7aa30_00018_18_lr=0.0017,num_layers=4,sequence_length=14_2023-05-08_03-55-13\",\n",
    "\n",
    "    \"/home/anees.hashmi/ray_results/train_ray_2023-05-08_02-52-30/train_ray_db919_00016_16_lr=0.0117,num_layers=4,sequence_length=56_2023-05-08_02-53-24\",\n",
    "    \"/home/anees.hashmi/ray_results/train_ray_2023-05-08_06-15-15/train_ray_2dfed_00005_5_lr=0.0010,num_layers=4,sequence_length=56_2023-05-08_06-20-57\",\n",
    "\n",
    "    \"/home/anees.hashmi/ray_results/train_ray_2023-05-08_02-53-43/train_ray_0767c_00006_6_lr=0.0152,num_layers=4,sequence_length=38_2023-05-08_02-54-15\",\n",
    "    \"/home/anees.hashmi/ray_results/train_ray_2023-05-08_06-35-29/train_ray_0212f_00008_8_lr=0.0556,num_layers=4,sequence_length=14_2023-05-08_06-58-56\",\n",
    "\n",
    "    \"/home/anees.hashmi/ray_results/train_ray_2023-05-08_02-54-44/train_ray_2bce8_00018_18_lr=0.0003,num_layers=4,sequence_length=38_2023-05-08_02-55-50\",\n",
    "\n",
    "    \"/home/anees.hashmi/ray_results/train_ray_2023-05-08_02-56-07/train_ray_5dcd2_00005_5_lr=0.0032,num_layers=4,sequence_length=56_2023-05-08_02-56-26\",\n",
    "\n",
    "    \"/home/anees.hashmi/ray_results/train_ray_2023-05-08_02-49-29/train_ray_6fc34_00009_9_lr=0.0005,num_layers=4,sequence_length=14_2023-05-08_02-56-09\",\n",
    "\n",
    "    \"/home/anees.hashmi/ray_results/train_ray_2023-05-08_03-05-59/train_ray_bdfee_00012_12_lr=0.0008,num_layers=12,sequence_length=14_2023-05-08_03-16-13\"\n",
    "]\n",
    "\n",
    "# targets = [\n",
    "#     \"/home/anees.hashmi/Desktop/kalmanfilters_nn/saved_models/appended_mae/experiments_1D\",\n",
    "# \"/home/anees.hashmi/Desktop/kalmanfilters_nn/saved_models/appended_mae/experiments_2D\",\n",
    "\n",
    "# \"/home/anees.hashmi/Desktop/kalmanfilters_nn/saved_models/separate_mae/experiments_1D/mnst_2_lnstd_0.1\",\n",
    "# \"/home/anees.hashmi/Desktop/kalmanfilters_nn/saved_models/separate_mae/experiments_1D/mnst_2_lnstd_0.1\",\n",
    "\n",
    "# \"/home/anees.hashmi/Desktop/kalmanfilters_nn/saved_models/separate_mae/experiments_1D/mnst_2_lnstd_0.01\",\n",
    "# \"/home/anees.hashmi/Desktop/kalmanfilters_nn/saved_models/separate_mae/experiments_1D/mnst_2_lnstd_0.01\",\n",
    "\n",
    "# \"/home/anees.hashmi/Desktop/kalmanfilters_nn/saved_models/separate_mae/experiments_1D/mnst_2_lnstd_1\"\n",
    "# /home/anees.hashmi/Desktop/kalmanfilters_nn/saved_models/separate_mae/experiments_1D/mnst_2_lnstd_1\n",
    "\n",
    "# /home/anees.hashmi/Desktop/kalmanfilters_nn/saved_models/separate_mae/experiments_1D/mnst_2_lnstd_10\n",
    "# /home/anees.hashmi/Desktop/kalmanfilters_nn/saved_models/separate_mae/experiments_1D/mnst_2_lnstd_10\n",
    "\n",
    "# \"/home/anees.hashmi/Desktop/kalmanfilters_nn/saved_models/separate_mae/experiments_1D/mnst_4_lnstd_0.01\",\n",
    "\n",
    "# \"/home/anees.hashmi/Desktop/kalmanfilters_nn/saved_models/separate_mae/experiments_1D/mnst_8_lnstd_0.01\",\n",
    "\n",
    "\n",
    "# \"/home/anees.hashmi/Desktop/kalmanfilters_nn/saved_models/separate_mae/experiments_2D/generated_data_fbcampus_alpha_4\",\n",
    "\n",
    "# \"/home/anees.hashmi/Desktop/kalmanfilters_nn/saved_models/separate_mae/experiments_2D/generated_data_fbcampus_alpha_8\"\n",
    "# ]\n",
    "\n",
    "targets = [\n",
    "\n",
    "\n",
    "    \"/home/anees.hashmi/Desktop/kalmanfilters_nn/saved_models/appended_mae/experiments_1D/GRU\",\n",
    "    \"/home/anees.hashmi/Desktop/kalmanfilters_nn/saved_models/appended_mae/experiments_2D/GRU\",\n",
    "\n",
    "    \"/home/anees.hashmi/Desktop/kalmanfilters_nn/saved_models/separate_mae/experiments_1D/mnst_2_lnstd_0.1/GRU\",\n",
    "    \"/home/anees.hashmi/Desktop/kalmanfilters_nn/saved_models/separate_mae/experiments_1D/mnst_2_lnstd_0.1/LSTM\",\n",
    "\n",
    "    \"/home/anees.hashmi/Desktop/kalmanfilters_nn/saved_models/separate_mae/experiments_1D/mnst_2_lnstd_0.01/GRU\",\n",
    "    \"/home/anees.hashmi/Desktop/kalmanfilters_nn/saved_models/separate_mae/experiments_1D/mnst_2_lnstd_0.01/LSTM\",\n",
    "\n",
    "    \"/home/anees.hashmi/Desktop/kalmanfilters_nn/saved_models/separate_mae/experiments_1D/mnst_2_lnstd_1/GRU\",\n",
    "    \"/home/anees.hashmi/Desktop/kalmanfilters_nn/saved_models/separate_mae/experiments_1D/mnst_2_lnstd_1/LSTM\",\n",
    "\n",
    "    \"/home/anees.hashmi/Desktop/kalmanfilters_nn/saved_models/separate_mae/experiments_1D/mnst_2_lnstd_10/GRU\",\n",
    "    \"/home/anees.hashmi/Desktop/kalmanfilters_nn/saved_models/separate_mae/experiments_1D/mnst_2_lnstd_10/LSTM\",\n",
    "\n",
    "    \"/home/anees.hashmi/Desktop/kalmanfilters_nn/saved_models/separate_mae/experiments_1D/mnst_4_lnstd_0.01/GRU\",\n",
    "\n",
    "    \"/home/anees.hashmi/Desktop/kalmanfilters_nn/saved_models/separate_mae/experiments_1D/mnst_8_lnstd_0.01/GRU\",\n",
    "\n",
    "\n",
    "    \"/home/anees.hashmi/Desktop/kalmanfilters_nn/saved_models/separate_mae/experiments_2D/generated_data_fbcampus_alpha_4/GRU\",\n",
    "\n",
    "    \"/home/anees.hashmi/Desktop/kalmanfilters_nn/saved_models/separate_mae/experiments_2D/generated_data_fbcampus_alpha_8/GRU\"\n",
    "]"
   ]
  },
  {
   "cell_type": "code",
   "execution_count": 12,
   "metadata": {},
   "outputs": [
    {
     "name": "stdout",
     "output_type": "stream",
     "text": [
      "/home/anees.hashmi/ray_results/train_ray_2023-05-08_02-45-55/train_ray_efc9f_00001_1_lr=0.0016,num_layers=12,sequence_length=56_2023-05-08_02-51-54\n",
      "/home/anees.hashmi/Desktop/kalmanfilters_nn/saved_models/appended_mae/experiments_1D/GRU\n",
      "/home/anees.hashmi/ray_results/train_ray_2023-05-08_02-47-03/train_ray_1ba11_00011_11_lr=0.0013,num_layers=4,sequence_length=14_2023-05-08_03-06-17\n",
      "/home/anees.hashmi/Desktop/kalmanfilters_nn/saved_models/appended_mae/experiments_2D/GRU\n",
      "/home/anees.hashmi/ray_results/train_ray_2023-05-08_02-51-31/train_ray_b856c_00013_13_lr=0.0001,num_layers=4,sequence_length=38_2023-05-08_02-52-09\n",
      "/home/anees.hashmi/Desktop/kalmanfilters_nn/saved_models/separate_mae/experiments_1D/mnst_2_lnstd_0.1/GRU\n",
      "/home/anees.hashmi/ray_results/train_ray_2023-05-08_03-59-42/train_ray_3ec7c_00004_4_lr=0.0005,num_layers=4,sequence_length=38_2023-05-08_04-24-33\n",
      "/home/anees.hashmi/Desktop/kalmanfilters_nn/saved_models/separate_mae/experiments_1D/mnst_2_lnstd_0.1/LSTM\n",
      "/home/anees.hashmi/ray_results/train_ray_2023-05-08_02-49-11/train_ray_65717_00010_10_lr=0.0030,num_layers=4,sequence_length=38_2023-05-08_02-51-00\n",
      "/home/anees.hashmi/Desktop/kalmanfilters_nn/saved_models/separate_mae/experiments_1D/mnst_2_lnstd_0.01/GRU\n",
      "/home/anees.hashmi/ray_results/train_ray_2023-05-08_02-56-57/train_ray_7aa30_00018_18_lr=0.0017,num_layers=4,sequence_length=14_2023-05-08_03-55-13\n",
      "/home/anees.hashmi/Desktop/kalmanfilters_nn/saved_models/separate_mae/experiments_1D/mnst_2_lnstd_0.01/LSTM\n",
      "/home/anees.hashmi/ray_results/train_ray_2023-05-08_02-52-30/train_ray_db919_00016_16_lr=0.0117,num_layers=4,sequence_length=56_2023-05-08_02-53-24\n",
      "/home/anees.hashmi/Desktop/kalmanfilters_nn/saved_models/separate_mae/experiments_1D/mnst_2_lnstd_1/GRU\n",
      "/home/anees.hashmi/ray_results/train_ray_2023-05-08_06-15-15/train_ray_2dfed_00005_5_lr=0.0010,num_layers=4,sequence_length=56_2023-05-08_06-20-57\n",
      "/home/anees.hashmi/Desktop/kalmanfilters_nn/saved_models/separate_mae/experiments_1D/mnst_2_lnstd_1/LSTM\n",
      "/home/anees.hashmi/ray_results/train_ray_2023-05-08_02-53-43/train_ray_0767c_00006_6_lr=0.0152,num_layers=4,sequence_length=38_2023-05-08_02-54-15\n",
      "/home/anees.hashmi/Desktop/kalmanfilters_nn/saved_models/separate_mae/experiments_1D/mnst_2_lnstd_10/GRU\n",
      "/home/anees.hashmi/ray_results/train_ray_2023-05-08_06-35-29/train_ray_0212f_00008_8_lr=0.0556,num_layers=4,sequence_length=14_2023-05-08_06-58-56\n",
      "/home/anees.hashmi/Desktop/kalmanfilters_nn/saved_models/separate_mae/experiments_1D/mnst_2_lnstd_10/LSTM\n",
      "/home/anees.hashmi/ray_results/train_ray_2023-05-08_02-54-44/train_ray_2bce8_00018_18_lr=0.0003,num_layers=4,sequence_length=38_2023-05-08_02-55-50\n",
      "/home/anees.hashmi/Desktop/kalmanfilters_nn/saved_models/separate_mae/experiments_1D/mnst_4_lnstd_0.01/GRU\n",
      "/home/anees.hashmi/ray_results/train_ray_2023-05-08_02-56-07/train_ray_5dcd2_00005_5_lr=0.0032,num_layers=4,sequence_length=56_2023-05-08_02-56-26\n",
      "/home/anees.hashmi/Desktop/kalmanfilters_nn/saved_models/separate_mae/experiments_1D/mnst_8_lnstd_0.01/GRU\n",
      "/home/anees.hashmi/ray_results/train_ray_2023-05-08_02-49-29/train_ray_6fc34_00009_9_lr=0.0005,num_layers=4,sequence_length=14_2023-05-08_02-56-09\n",
      "/home/anees.hashmi/Desktop/kalmanfilters_nn/saved_models/separate_mae/experiments_2D/generated_data_fbcampus_alpha_4/GRU\n",
      "/home/anees.hashmi/ray_results/train_ray_2023-05-08_03-05-59/train_ray_bdfee_00012_12_lr=0.0008,num_layers=12,sequence_length=14_2023-05-08_03-16-13\n",
      "/home/anees.hashmi/Desktop/kalmanfilters_nn/saved_models/separate_mae/experiments_2D/generated_data_fbcampus_alpha_8/GRU\n"
     ]
    }
   ],
   "source": [
    "for i in range(len(targets)):\n",
    "    print(source[i])\n",
    "    print(targets[i])"
   ]
  },
  {
   "cell_type": "code",
   "execution_count": 13,
   "metadata": {},
   "outputs": [],
   "source": [
    "for i in range(len(source)):\n",
    "    os.makedirs(targets[i], exist_ok=True)\n",
    "    try:\n",
    "        shutil.copy(os.path.join(source[i], \"checkpoint_000080\", \"checkpoint\"),targets[i])\n",
    "    except:\n",
    "        print(f\"exits: {targets[i]}\")"
   ]
  },
  {
   "cell_type": "code",
   "execution_count": null,
   "metadata": {},
   "outputs": [],
   "source": []
  }
 ],
 "metadata": {
  "kernelspec": {
   "display_name": "main",
   "language": "python",
   "name": "python3"
  },
  "language_info": {
   "codemirror_mode": {
    "name": "ipython",
    "version": 3
   },
   "file_extension": ".py",
   "mimetype": "text/x-python",
   "name": "python",
   "nbconvert_exporter": "python",
   "pygments_lexer": "ipython3",
   "version": "3.10.8"
  },
  "orig_nbformat": 4
 },
 "nbformat": 4,
 "nbformat_minor": 2
}
