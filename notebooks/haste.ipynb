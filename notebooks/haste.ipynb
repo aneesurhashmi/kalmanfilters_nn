{
 "cells": [
  {
   "cell_type": "code",
   "execution_count": null,
   "metadata": {},
   "outputs": [],
   "source": [
    "import torch\n",
    "import haste_pytorch as haste\n"
   ]
  },
  {
   "cell_type": "code",
   "execution_count": null,
   "metadata": {},
   "outputs": [],
   "source": [
    "# # gru_layer = haste.GRU(input_size=128, hidden_size=256, zoneout=0.1, dropout=0.05, batch_first=True)\n",
    "# # indrnn_layer = haste.IndRNN(input_size=128, hidden_size=256, zoneout=0.1)\n",
    "# # lstm_layer = haste.LSTM(input_size=128, hidden_size=256, zoneout=0.1, dropout=0.05)\n",
    "# norm_gru_layer = haste.LayerNormGRU(input_size=128, hidden_size=256, zoneout=0.1, dropout=0.05, batch_first=True)\n",
    "# norm_lstm_layer = haste.LayerNormLSTM(input_size=128, hidden_size=256, zoneout=0.1, dropout=0.05, batch_first=True)\n",
    "\n",
    "# # gru_layer.cuda()\n",
    "# # indrnn_layer.cuda()\n",
    "# # lstm_layer.cuda()\n",
    "# norm_gru_layer.cuda()\n",
    "# norm_lstm_layer.cuda()"
   ]
  },
  {
   "cell_type": "code",
   "execution_count": null,
   "metadata": {},
   "outputs": [],
   "source": [
    "from torch.nn import Parameter"
   ]
  },
  {
   "cell_type": "code",
   "execution_count": null,
   "metadata": {},
   "outputs": [],
   "source": [
    "import torch\n",
    "import torch.nn as nn\n",
    "\n",
    "# Define the input size and hidden size for the LSTM layers\n",
    "input_size = 128\n",
    "hidden_size = 256\n",
    "\n",
    "# Define the number of layers you want to stack\n",
    "num_layers = 3\n",
    "num_directions= 1\n",
    "# Create the stacked LSTM layers\n",
    "lstm_layers = []\n",
    "for layer in range(num_layers):\n",
    "    # lstm_layer = haste.LayerNormLSTM(input_size=128, hidden_size=256, zoneout=0.1, dropout=0.05, batch_first=True)\n",
    "    layer_input_size = input_size if layer == 0 else hidden_size * num_directions\n",
    "    lstm_layer = haste.LayerNormLSTM(input_size=layer_input_size, hidden_size=hidden_size, zoneout=0.1, dropout=0.05, batch_first=True)\n",
    "    lstm_layers.append(lstm_layer)\n"
   ]
  },
  {
   "cell_type": "code",
   "execution_count": null,
   "metadata": {},
   "outputs": [],
   "source": [
    "# `x` is a CUDA tensor with shape [T,N,C]\n",
    "x = torch.rand([5, 25, 128]).cuda()\n",
    "h = torch.zeros(1, x.size(0), hidden_size).to(x.device)\n",
    "c = torch.zeros(1, x.size(0), hidden_size).to(x.device)"
   ]
  },
  {
   "cell_type": "code",
   "execution_count": null,
   "metadata": {},
   "outputs": [],
   "source": [
    "for layer in lstm_layers:\n",
    "    x, (h, c) = layer.cuda()(x, (h,c))"
   ]
  },
  {
   "cell_type": "code",
   "execution_count": null,
   "metadata": {},
   "outputs": [],
   "source": [
    "x.shape, h.shape, c.shape"
   ]
  },
  {
   "attachments": {},
   "cell_type": "markdown",
   "metadata": {},
   "source": [
    "## import class"
   ]
  },
  {
   "cell_type": "code",
   "execution_count": null,
   "metadata": {},
   "outputs": [],
   "source": []
  }
 ],
 "metadata": {
  "kernelspec": {
   "display_name": "main",
   "language": "python",
   "name": "python3"
  },
  "language_info": {
   "codemirror_mode": {
    "name": "ipython",
    "version": 3
   },
   "file_extension": ".py",
   "mimetype": "text/x-python",
   "name": "python",
   "nbconvert_exporter": "python",
   "pygments_lexer": "ipython3",
   "version": "3.10.8"
  },
  "orig_nbformat": 4
 },
 "nbformat": 4,
 "nbformat_minor": 2
}
