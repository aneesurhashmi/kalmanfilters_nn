{
 "cells": [
  {
   "attachments": {},
   "cell_type": "markdown",
   "metadata": {},
   "source": [
    "## Let's try RNN"
   ]
  },
  {
   "cell_type": "code",
   "execution_count": 136,
   "metadata": {},
   "outputs": [],
   "source": [
    "import torch\n",
    "import torch.nn as nn\n",
    "import numpy as np\n",
    "import pandas as pd\n",
    "import os\n"
   ]
  },
  {
   "cell_type": "code",
   "execution_count": 145,
   "metadata": {},
   "outputs": [],
   "source": [
    "DATA_DIR = \"./generated_data\"\n",
    "CSV_NAME = \"generated_data_2.csv\""
   ]
  },
  {
   "cell_type": "code",
   "execution_count": 146,
   "metadata": {},
   "outputs": [
    {
     "data": {
      "text/html": [
       "<div>\n",
       "<style scoped>\n",
       "    .dataframe tbody tr th:only-of-type {\n",
       "        vertical-align: middle;\n",
       "    }\n",
       "\n",
       "    .dataframe tbody tr th {\n",
       "        vertical-align: top;\n",
       "    }\n",
       "\n",
       "    .dataframe thead th {\n",
       "        text-align: right;\n",
       "    }\n",
       "</style>\n",
       "<table border=\"1\" class=\"dataframe\">\n",
       "  <thead>\n",
       "    <tr style=\"text-align: right;\">\n",
       "      <th></th>\n",
       "      <th>noisy motion</th>\n",
       "      <th>kalman prediction</th>\n",
       "      <th>ground truth</th>\n",
       "      <th>motion noise stdev</th>\n",
       "      <th>laser noise stdev</th>\n",
       "      <th>laser range 1</th>\n",
       "      <th>laser range 2</th>\n",
       "      <th>laser range 3</th>\n",
       "      <th>laser range 4</th>\n",
       "      <th>laser range 5</th>\n",
       "      <th>laser range 6</th>\n",
       "    </tr>\n",
       "  </thead>\n",
       "  <tbody>\n",
       "    <tr>\n",
       "      <th>0</th>\n",
       "      <td>32.063360</td>\n",
       "      <td>5.014954</td>\n",
       "      <td>4.527978</td>\n",
       "      <td>2</td>\n",
       "      <td>0.1</td>\n",
       "      <td>4.998537</td>\n",
       "      <td>4.927686</td>\n",
       "      <td>4.919777</td>\n",
       "      <td>5.089352</td>\n",
       "      <td>4.958714</td>\n",
       "      <td>4.836348</td>\n",
       "    </tr>\n",
       "    <tr>\n",
       "      <th>1</th>\n",
       "      <td>32.108053</td>\n",
       "      <td>5.158915</td>\n",
       "      <td>4.574486</td>\n",
       "      <td>2</td>\n",
       "      <td>0.1</td>\n",
       "      <td>5.013025</td>\n",
       "      <td>4.986345</td>\n",
       "      <td>4.975599</td>\n",
       "      <td>4.671942</td>\n",
       "      <td>4.971018</td>\n",
       "      <td>4.949959</td>\n",
       "    </tr>\n",
       "    <tr>\n",
       "      <th>2</th>\n",
       "      <td>32.097932</td>\n",
       "      <td>5.319893</td>\n",
       "      <td>4.564363</td>\n",
       "      <td>2</td>\n",
       "      <td>0.1</td>\n",
       "      <td>5.034334</td>\n",
       "      <td>4.927298</td>\n",
       "      <td>5.154497</td>\n",
       "      <td>5.088942</td>\n",
       "      <td>4.825726</td>\n",
       "      <td>4.899361</td>\n",
       "    </tr>\n",
       "    <tr>\n",
       "      <th>3</th>\n",
       "      <td>32.377241</td>\n",
       "      <td>5.193629</td>\n",
       "      <td>4.765297</td>\n",
       "      <td>2</td>\n",
       "      <td>0.1</td>\n",
       "      <td>4.656789</td>\n",
       "      <td>4.656965</td>\n",
       "      <td>4.581776</td>\n",
       "      <td>4.857603</td>\n",
       "      <td>4.824811</td>\n",
       "      <td>4.783723</td>\n",
       "    </tr>\n",
       "    <tr>\n",
       "      <th>4</th>\n",
       "      <td>31.402264</td>\n",
       "      <td>5.363585</td>\n",
       "      <td>5.098723</td>\n",
       "      <td>2</td>\n",
       "      <td>0.1</td>\n",
       "      <td>4.565324</td>\n",
       "      <td>4.552719</td>\n",
       "      <td>4.370080</td>\n",
       "      <td>4.386198</td>\n",
       "      <td>4.455054</td>\n",
       "      <td>4.489313</td>\n",
       "    </tr>\n",
       "  </tbody>\n",
       "</table>\n",
       "</div>"
      ],
      "text/plain": [
       "   noisy motion  kalman prediction  ground truth  motion noise stdev  \\\n",
       "0     32.063360           5.014954      4.527978                   2   \n",
       "1     32.108053           5.158915      4.574486                   2   \n",
       "2     32.097932           5.319893      4.564363                   2   \n",
       "3     32.377241           5.193629      4.765297                   2   \n",
       "4     31.402264           5.363585      5.098723                   2   \n",
       "\n",
       "   laser noise stdev  laser range 1  laser range 2  laser range 3  \\\n",
       "0                0.1       4.998537       4.927686       4.919777   \n",
       "1                0.1       5.013025       4.986345       4.975599   \n",
       "2                0.1       5.034334       4.927298       5.154497   \n",
       "3                0.1       4.656789       4.656965       4.581776   \n",
       "4                0.1       4.565324       4.552719       4.370080   \n",
       "\n",
       "   laser range 4  laser range 5  laser range 6  \n",
       "0       5.089352       4.958714       4.836348  \n",
       "1       4.671942       4.971018       4.949959  \n",
       "2       5.088942       4.825726       4.899361  \n",
       "3       4.857603       4.824811       4.783723  \n",
       "4       4.386198       4.455054       4.489313  "
      ]
     },
     "execution_count": 146,
     "metadata": {},
     "output_type": "execute_result"
    }
   ],
   "source": [
    "df = pd.read_csv(os.path.join(DATA_DIR, CSV_NAME))\n",
    "df = df.interpolate() # to prevent nan in model output\n",
    "df.head()\n"
   ]
  },
  {
   "cell_type": "code",
   "execution_count": 138,
   "metadata": {},
   "outputs": [],
   "source": [
    "# Define the RNN model\n",
    "class SimpleRNN(nn.Module):\n",
    "    def __init__(self, input_size, hidden_size, output_size):\n",
    "        super(SimpleRNN, self).__init__()\n",
    "        self.hidden_size = hidden_size\n",
    "        self.rnn = nn.RNN(input_size, hidden_size, batch_first=True)\n",
    "        self.fc = nn.Linear(hidden_size, output_size)\n",
    "    \n",
    "    def forward(self, x):\n",
    "        h0 = torch.zeros(1, x.size(0), self.hidden_size).to(x.device)\n",
    "        out, _ = self.rnn(x, h0)\n",
    "        if out.isnan().any():\n",
    "            print(\"NAN:\", out)\n",
    "        # print(out.shape)\n",
    "        out = self.fc(out[:, -1, :]) # taking only the last hidden layer output\n",
    "        if out.isnan().any():\n",
    "            print(\"NAN: Second: \", out)\n",
    "        # print(out.shape)\n",
    "        return out"
   ]
  },
  {
   "cell_type": "code",
   "execution_count": 139,
   "metadata": {},
   "outputs": [],
   "source": [
    "# Create some dummy data\n",
    "seq_len = 1\n",
    "batch_size = 5\n",
    "# num_batches = 69\n",
    "num_batches = len(df) // (seq_len)\n",
    "input_size = 9\n",
    "output_size = 1"
   ]
  },
  {
   "cell_type": "code",
   "execution_count": 140,
   "metadata": {},
   "outputs": [],
   "source": [
    "labels = np.array(df[\"ground truth\"].to_list())\n",
    "input_data_df = df[['noisy motion', 'motion noise stdev', 'laser noise stdev', 'laser range 1',\n",
    "       'laser range 2', 'laser range 3', 'laser range 4', 'laser range 5',\n",
    "       'laser range 6']].to_numpy()\n",
    "\n",
    "input_data = input_data_df[:num_batches * seq_len]\n",
    "input_data = torch.from_numpy(np.reshape(input_data, (num_batches, seq_len, input_data.shape[-1]))).type(torch.float32)\n",
    "\n",
    "output_data = labels[:num_batches * seq_len]\n",
    "output_data = torch.from_numpy(np.reshape(output_data, (num_batches, -1))).type(torch.float32)\n"
   ]
  },
  {
   "cell_type": "code",
   "execution_count": 141,
   "metadata": {},
   "outputs": [],
   "source": [
    "dataset = torch.utils.data.TensorDataset(input_data, output_data)\n",
    "dataloader = torch.utils.data.DataLoader(dataset, batch_size=batch_size, shuffle=True)\n"
   ]
  },
  {
   "cell_type": "code",
   "execution_count": 142,
   "metadata": {},
   "outputs": [],
   "source": [
    "embedding_size = 9\n",
    "hidden_size = 64\n",
    "output_size = 1\n",
    "model = SimpleRNN(embedding_size, hidden_size, output_size)\n",
    "\n",
    "# Define the loss function and optimizer\n",
    "criterion = nn.MSELoss()\n",
    "optimizer = torch.optim.Adam(model.parameters(), lr=0.001)\n"
   ]
  },
  {
   "cell_type": "code",
   "execution_count": 144,
   "metadata": {},
   "outputs": [
    {
     "name": "stdout",
     "output_type": "stream",
     "text": [
      "Epoch [1/100], Loss: 0.0684\n",
      "Epoch [11/100], Loss: 0.0384\n",
      "Epoch [21/100], Loss: 0.0176\n",
      "Epoch [31/100], Loss: 0.0020\n",
      "Epoch [41/100], Loss: 0.0013\n",
      "Epoch [51/100], Loss: 0.0049\n",
      "Epoch [61/100], Loss: 0.5213\n",
      "Epoch [71/100], Loss: 0.0097\n",
      "Epoch [81/100], Loss: 0.0054\n",
      "Epoch [91/100], Loss: 0.0224\n"
     ]
    }
   ],
   "source": [
    "# Train the model\n",
    "num_epochs = 100\n",
    "for epoch in range(num_epochs):\n",
    "    for batch_inputs, batch_outputs in dataloader:\n",
    "        optimizer.zero_grad()\n",
    "        outputs = model(batch_inputs)\n",
    "        loss = criterion(outputs, batch_outputs)\n",
    "        loss.backward()\n",
    "        optimizer.step()\n",
    "\n",
    "    # Print the loss after every epoch\n",
    "    if epoch %10 ==0:\n",
    "        print('Epoch [{}/{}], Loss: {:.4f}'.format(epoch+1, num_epochs, loss.item()))\n",
    "\n"
   ]
  },
  {
   "cell_type": "code",
   "execution_count": null,
   "metadata": {},
   "outputs": [],
   "source": []
  }
 ],
 "metadata": {
  "kernelspec": {
   "display_name": "main",
   "language": "python",
   "name": "python3"
  },
  "language_info": {
   "codemirror_mode": {
    "name": "ipython",
    "version": 3
   },
   "file_extension": ".py",
   "mimetype": "text/x-python",
   "name": "python",
   "nbconvert_exporter": "python",
   "pygments_lexer": "ipython3",
   "version": "3.10.8"
  },
  "orig_nbformat": 4
 },
 "nbformat": 4,
 "nbformat_minor": 2
}
