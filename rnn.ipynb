{
 "cells": [
  {
   "attachments": {},
   "cell_type": "markdown",
   "metadata": {},
   "source": [
    "## Let's try RNN"
   ]
  },
  {
   "cell_type": "code",
   "execution_count": 1,
   "metadata": {},
   "outputs": [],
   "source": [
    "import torch\n",
    "import torch.nn as nn\n",
    "import numpy as np\n",
    "import pandas as pd\n",
    "import os\n",
    "import matplotlib.pyplot as plt\n"
   ]
  },
  {
   "cell_type": "code",
   "execution_count": 2,
   "metadata": {},
   "outputs": [],
   "source": [
    "DATA_DIR = \"./generated_data\"\n",
    "CSV_NAME = \"generated_data_1.csv\""
   ]
  },
  {
   "cell_type": "code",
   "execution_count": 3,
   "metadata": {},
   "outputs": [
    {
     "data": {
      "text/html": [
       "<div>\n",
       "<style scoped>\n",
       "    .dataframe tbody tr th:only-of-type {\n",
       "        vertical-align: middle;\n",
       "    }\n",
       "\n",
       "    .dataframe tbody tr th {\n",
       "        vertical-align: top;\n",
       "    }\n",
       "\n",
       "    .dataframe thead th {\n",
       "        text-align: right;\n",
       "    }\n",
       "</style>\n",
       "<table border=\"1\" class=\"dataframe\">\n",
       "  <thead>\n",
       "    <tr style=\"text-align: right;\">\n",
       "      <th></th>\n",
       "      <th>noisy motion</th>\n",
       "      <th>kalman prediction</th>\n",
       "      <th>ground truth</th>\n",
       "      <th>motion noise stdev</th>\n",
       "      <th>laser noise stdev</th>\n",
       "      <th>laser range 1</th>\n",
       "      <th>laser range 2</th>\n",
       "      <th>laser range 3</th>\n",
       "      <th>laser range 4</th>\n",
       "      <th>laser range 5</th>\n",
       "      <th>laser range 6</th>\n",
       "    </tr>\n",
       "  </thead>\n",
       "  <tbody>\n",
       "    <tr>\n",
       "      <th>0</th>\n",
       "      <td>-1.155220</td>\n",
       "      <td>3.551487</td>\n",
       "      <td>3.268738</td>\n",
       "      <td>2</td>\n",
       "      <td>0.01</td>\n",
       "      <td>6.463386</td>\n",
       "      <td>6.457985</td>\n",
       "      <td>6.450579</td>\n",
       "      <td>6.449560</td>\n",
       "      <td>6.465331</td>\n",
       "      <td>6.462147</td>\n",
       "    </tr>\n",
       "    <tr>\n",
       "      <th>1</th>\n",
       "      <td>-0.344686</td>\n",
       "      <td>3.759194</td>\n",
       "      <td>3.941828</td>\n",
       "      <td>2</td>\n",
       "      <td>0.01</td>\n",
       "      <td>6.305038</td>\n",
       "      <td>6.282087</td>\n",
       "      <td>6.263595</td>\n",
       "      <td>6.265825</td>\n",
       "      <td>6.249935</td>\n",
       "      <td>6.243805</td>\n",
       "    </tr>\n",
       "    <tr>\n",
       "      <th>2</th>\n",
       "      <td>-0.265481</td>\n",
       "      <td>4.417085</td>\n",
       "      <td>4.019310</td>\n",
       "      <td>2</td>\n",
       "      <td>0.01</td>\n",
       "      <td>5.602849</td>\n",
       "      <td>5.594613</td>\n",
       "      <td>5.582178</td>\n",
       "      <td>5.580036</td>\n",
       "      <td>5.585974</td>\n",
       "      <td>5.587743</td>\n",
       "    </tr>\n",
       "    <tr>\n",
       "      <th>3</th>\n",
       "      <td>0.465647</td>\n",
       "      <td>4.499272</td>\n",
       "      <td>4.404337</td>\n",
       "      <td>2</td>\n",
       "      <td>0.01</td>\n",
       "      <td>5.538476</td>\n",
       "      <td>5.515565</td>\n",
       "      <td>5.505001</td>\n",
       "      <td>5.503956</td>\n",
       "      <td>5.516458</td>\n",
       "      <td>5.535148</td>\n",
       "    </tr>\n",
       "    <tr>\n",
       "      <th>4</th>\n",
       "      <td>0.182628</td>\n",
       "      <td>4.881963</td>\n",
       "      <td>4.111349</td>\n",
       "      <td>2</td>\n",
       "      <td>0.01</td>\n",
       "      <td>5.140490</td>\n",
       "      <td>5.114725</td>\n",
       "      <td>5.125316</td>\n",
       "      <td>5.132672</td>\n",
       "      <td>5.123336</td>\n",
       "      <td>5.125902</td>\n",
       "    </tr>\n",
       "  </tbody>\n",
       "</table>\n",
       "</div>"
      ],
      "text/plain": [
       "   noisy motion  kalman prediction  ground truth  motion noise stdev  \\\n",
       "0     -1.155220           3.551487      3.268738                   2   \n",
       "1     -0.344686           3.759194      3.941828                   2   \n",
       "2     -0.265481           4.417085      4.019310                   2   \n",
       "3      0.465647           4.499272      4.404337                   2   \n",
       "4      0.182628           4.881963      4.111349                   2   \n",
       "\n",
       "   laser noise stdev  laser range 1  laser range 2  laser range 3  \\\n",
       "0               0.01       6.463386       6.457985       6.450579   \n",
       "1               0.01       6.305038       6.282087       6.263595   \n",
       "2               0.01       5.602849       5.594613       5.582178   \n",
       "3               0.01       5.538476       5.515565       5.505001   \n",
       "4               0.01       5.140490       5.114725       5.125316   \n",
       "\n",
       "   laser range 4  laser range 5  laser range 6  \n",
       "0       6.449560       6.465331       6.462147  \n",
       "1       6.265825       6.249935       6.243805  \n",
       "2       5.580036       5.585974       5.587743  \n",
       "3       5.503956       5.516458       5.535148  \n",
       "4       5.132672       5.123336       5.125902  "
      ]
     },
     "execution_count": 3,
     "metadata": {},
     "output_type": "execute_result"
    }
   ],
   "source": [
    "df = pd.read_csv(os.path.join(DATA_DIR, CSV_NAME))\n",
    "df = df.interpolate() # to prevent nan in model output\n",
    "df.head()\n"
   ]
  },
  {
   "cell_type": "code",
   "execution_count": 4,
   "metadata": {},
   "outputs": [],
   "source": [
    "# df[df.isna().values]"
   ]
  },
  {
   "cell_type": "code",
   "execution_count": 5,
   "metadata": {},
   "outputs": [],
   "source": [
    "# Define the RNN model\n",
    "class SimpleRNN(nn.Module):\n",
    "    def __init__(self, input_size, hidden_size, output_size):\n",
    "        super(SimpleRNN, self).__init__()\n",
    "        self.hidden_size = hidden_size\n",
    "        self.rnn = nn.RNN(input_size, hidden_size, batch_first=True)\n",
    "        self.fc = nn.Linear(hidden_size, output_size)\n",
    "    \n",
    "    def forward(self, x):\n",
    "        h0 = torch.zeros(1, x.size(0), self.hidden_size).to(x.device)\n",
    "        out, _ = self.rnn(x, h0)\n",
    "        if out.isnan().any():\n",
    "            print(\"NAN:\", out)\n",
    "        # print(out.shape)\n",
    "        out = self.fc(out[:, -1, :]) # taking only the last hidden layer output\n",
    "        if out.isnan().any():\n",
    "            print(\"NAN: Second: \", out)\n",
    "        # print(out.shape)\n",
    "        return out"
   ]
  },
  {
   "cell_type": "code",
   "execution_count": 6,
   "metadata": {},
   "outputs": [
    {
     "data": {
      "text/plain": [
       "104"
      ]
     },
     "execution_count": 6,
     "metadata": {},
     "output_type": "execute_result"
    }
   ],
   "source": [
    "# Create some dummy data\n",
    "seq_len = 3\n",
    "batch_size = 10\n",
    "# num_batches = 69\n",
    "num_batches = (len(df) - seq_len) // (batch_size)\n",
    "input_size = 9\n",
    "output_size = 1\n",
    "num_batches"
   ]
  },
  {
   "cell_type": "code",
   "execution_count": 7,
   "metadata": {},
   "outputs": [
    {
     "data": {
      "text/plain": [
       "105.0"
      ]
     },
     "execution_count": 7,
     "metadata": {},
     "output_type": "execute_result"
    }
   ],
   "source": [
    "len(df)/batch_size"
   ]
  },
  {
   "cell_type": "code",
   "execution_count": 8,
   "metadata": {},
   "outputs": [],
   "source": [
    "labels = np.array(df[\"ground truth\"].to_list())\n",
    "input_data_df = df[['noisy motion', 'motion noise stdev', 'laser noise stdev', 'laser range 1',\n",
    "       'laser range 2', 'laser range 3', 'laser range 4', 'laser range 5',\n",
    "       'laser range 6']].to_numpy()\n",
    "\n",
    "# input_data = input_data_df[:num_batches * batch_size]\n",
    "input_data = input_data_df.copy()\n",
    "\n",
    "# output_data = labels[:num_batches * batch_size]\n",
    "output_data = labels.copy()\n",
    "\n"
   ]
  },
  {
   "cell_type": "code",
   "execution_count": 9,
   "metadata": {},
   "outputs": [
    {
     "data": {
      "text/plain": [
       "((1050, 9), (1050,))"
      ]
     },
     "execution_count": 9,
     "metadata": {},
     "output_type": "execute_result"
    }
   ],
   "source": [
    "input_data.shape, output_data.shape"
   ]
  },
  {
   "cell_type": "code",
   "execution_count": 10,
   "metadata": {},
   "outputs": [
    {
     "data": {
      "text/plain": [
       "array([4.14828569e+02, 2.00000000e+00, 1.00000000e-02, 1.32518971e+00,\n",
       "       1.33487737e+00, 1.33140516e+00, 1.34016287e+00, 1.32664394e+00,\n",
       "       1.33908546e+00])"
      ]
     },
     "execution_count": 10,
     "metadata": {},
     "output_type": "execute_result"
    }
   ],
   "source": [
    "input_data[range(len(input_data) - seq_len)[-1] + seq_len]"
   ]
  },
  {
   "cell_type": "code",
   "execution_count": 11,
   "metadata": {},
   "outputs": [],
   "source": [
    "new_input_data = []\n",
    "new_output_data = []\n",
    "\n",
    "for i in range(len(input_data) - seq_len):\n",
    "    new_input_data.append(input_data[i:i+seq_len])\n",
    "    new_output_data.append(output_data[i + seq_len -1])\n",
    "\n",
    "new_input_data = np.array(new_input_data[:num_batches* batch_size]) # drop the last batch\n",
    "new_output_data = np.array(new_output_data[:num_batches* batch_size]) # drop the last batch\n",
    "\n"
   ]
  },
  {
   "cell_type": "code",
   "execution_count": 12,
   "metadata": {},
   "outputs": [],
   "source": [
    "# # sanity check\n",
    "# print(new_input_data[0], new_output_data[0].round(6))\n",
    "# df.head()"
   ]
  },
  {
   "cell_type": "code",
   "execution_count": 19,
   "metadata": {},
   "outputs": [
    {
     "data": {
      "text/plain": [
       "True"
      ]
     },
     "execution_count": 19,
     "metadata": {},
     "output_type": "execute_result"
    }
   ],
   "source": [
    "new_input_data.shape == (num_batches* batch_size, seq_len, new_input_data.shape[-1])"
   ]
  },
  {
   "cell_type": "code",
   "execution_count": 28,
   "metadata": {},
   "outputs": [
    {
     "data": {
      "text/plain": [
       "(torch.Size([104, 10, 3, 9]), torch.Size([104, 10, 1]))"
      ]
     },
     "execution_count": 28,
     "metadata": {},
     "output_type": "execute_result"
    }
   ],
   "source": [
    "input_data = torch.from_numpy(np.reshape(new_input_data, (num_batches , batch_size, seq_len, new_input_data.shape[-1]))).type(torch.float32)\n",
    "output_data = torch.from_numpy(np.reshape(new_output_data, (num_batches , batch_size, -1))).type(torch.float32)\n",
    "\n",
    "input_data.shape, output_data.shape\n"
   ]
  },
  {
   "cell_type": "code",
   "execution_count": 30,
   "metadata": {},
   "outputs": [],
   "source": [
    "# dataset = torch.utils.data.TensorDataset(new_input_data, new_input_data)\n",
    "# dataloader = torch.utils.data.DataLoader(dataset, batch_size=batch_size, shuffle=True)\n"
   ]
  },
  {
   "cell_type": "code",
   "execution_count": 31,
   "metadata": {},
   "outputs": [],
   "source": [
    "# dataset[0][0].shape, dataset[0][1].shape\n",
    "\n"
   ]
  },
  {
   "cell_type": "code",
   "execution_count": 32,
   "metadata": {},
   "outputs": [],
   "source": [
    "embedding_size = 9\n",
    "hidden_size = 64\n",
    "output_size = 1\n",
    "lr = 0.0001\n",
    "model = SimpleRNN(embedding_size, hidden_size, output_size)\n",
    "\n",
    "# Define the loss function and optimizer\n",
    "criterion = nn.MSELoss()\n",
    "# optimizer = torch.optim.SGD(model.parameters(), lr=lr)\n",
    "optimizer = torch.optim.Adam(model.parameters(), lr=0.001)\n"
   ]
  },
  {
   "cell_type": "code",
   "execution_count": 40,
   "metadata": {},
   "outputs": [
    {
     "name": "stdout",
     "output_type": "stream",
     "text": [
      "Epoch [1/1000], Loss: 0.3971\n",
      "Epoch [11/1000], Loss: 0.4111\n",
      "Epoch [21/1000], Loss: 0.3065\n",
      "Epoch [31/1000], Loss: 0.3343\n",
      "Epoch [41/1000], Loss: 0.3278\n",
      "Epoch [51/1000], Loss: 0.3245\n",
      "Epoch [61/1000], Loss: 0.5909\n",
      "Epoch [71/1000], Loss: 0.3015\n",
      "Epoch [81/1000], Loss: 0.4443\n",
      "Epoch [91/1000], Loss: 0.3482\n",
      "Epoch [101/1000], Loss: 0.4192\n",
      "Epoch [111/1000], Loss: 0.2844\n",
      "Epoch [121/1000], Loss: 0.3213\n",
      "Epoch [131/1000], Loss: 0.3372\n",
      "Epoch [141/1000], Loss: 0.4399\n",
      "Epoch [151/1000], Loss: 0.2759\n",
      "Epoch [161/1000], Loss: 0.2674\n",
      "Epoch [171/1000], Loss: 0.4349\n",
      "Epoch [181/1000], Loss: 0.5053\n",
      "Epoch [191/1000], Loss: 0.4820\n",
      "Epoch [201/1000], Loss: 0.4329\n",
      "Epoch [211/1000], Loss: 0.4212\n",
      "Epoch [221/1000], Loss: 0.4760\n",
      "Epoch [231/1000], Loss: 0.7713\n",
      "Epoch [241/1000], Loss: 0.7379\n"
     ]
    }
   ],
   "source": [
    "# Train the model\n",
    "loss_cache = []\n",
    "\n",
    "num_epochs = 1000\n",
    "for epoch in range(num_epochs):\n",
    "    for i in range(len(input_data)):\n",
    "        batch_inputs = input_data[i]\n",
    "        batch_outputs = output_data[i]\n",
    "        # break\n",
    "\n",
    "        optimizer.zero_grad()\n",
    "        outputs = model(batch_inputs)\n",
    "        loss = criterion(outputs, batch_outputs)\n",
    "        loss.backward()\n",
    "        optimizer.step()\n",
    "    loss_cache.append(loss.item())\n",
    "    # Print the loss after every epoch\n",
    "    if epoch %10 ==0:\n",
    "        print('Epoch [{}/{}], Loss: {:.4f}'.format(epoch+1, num_epochs, loss.item()))\n",
    "\n"
   ]
  },
  {
   "cell_type": "code",
   "execution_count": null,
   "metadata": {},
   "outputs": [
    {
     "data": {
      "text/plain": [
       "[<matplotlib.lines.Line2D at 0x7fc32c373430>]"
      ]
     },
     "execution_count": 39,
     "metadata": {},
     "output_type": "execute_result"
    },
    {
     "data": {
      "image/png": "[encoded data removed]",
      "text/plain": [
       "<Figure size 432x288 with 1 Axes>"
      ]
     },
     "metadata": {
      "needs_background": "light"
     },
     "output_type": "display_data"
    }
   ],
   "source": [
    "plt.plot(loss_cache)\n"
   ]
  }
 ],
 "metadata": {
  "kernelspec": {
   "display_name": "main",
   "language": "python",
   "name": "python3"
  },
  "language_info": {
   "codemirror_mode": {
    "name": "ipython",
    "version": 3
   },
   "file_extension": ".py",
   "mimetype": "text/x-python",
   "name": "python",
   "nbconvert_exporter": "python",
   "pygments_lexer": "ipython3",
   "version": "3.10.8"
  },
  "orig_nbformat": 4
 },
 "nbformat": 4,
 "nbformat_minor": 2
}
