{
 "cells": [
  {
   "cell_type": "code",
   "execution_count": 1,
   "metadata": {},
   "outputs": [],
   "source": [
    "import pandas as pd\n",
    "import os\n",
    "import random\n",
    "import matplotlib.pyplot as plt"
   ]
  },
  {
   "attachments": {},
   "cell_type": "markdown",
   "metadata": {},
   "source": [
    "## Split 1D data CSVs"
   ]
  },
  {
   "cell_type": "code",
   "execution_count": 2,
   "metadata": {},
   "outputs": [],
   "source": [
    "csv_dir_1d = './data/2D/'\n",
    "csv_dir_1d_current = os.path.join(csv_dir_1d, 'generated_data')"
   ]
  },
  {
   "cell_type": "code",
   "execution_count": 10,
   "metadata": {},
   "outputs": [
    {
     "data": {
      "text/plain": [
       "['generated_data_fbcampus_alpha_8.csv',\n",
       " 'generated_data_intel_alpha_4.csv',\n",
       " 'generated_data_fbcampus_alpha_4.csv',\n",
       " 'generated_data_intel_alpha_8.csv']"
      ]
     },
     "execution_count": 10,
     "metadata": {},
     "output_type": "execute_result"
    }
   ],
   "source": []
  },
  {
   "cell_type": "code",
   "execution_count": 12,
   "metadata": {},
   "outputs": [
    {
     "name": "stdout",
     "output_type": "stream",
     "text": [
      "generated_data_fbcampus_alpha_8.csv\n",
      "generated_data_intel_alpha_4.csv\n",
      "generated_data_fbcampus_alpha_4.csv\n",
      "generated_data_intel_alpha_8.csv\n"
     ]
    },
    {
     "data": {
      "text/plain": [
       "32494"
      ]
     },
     "execution_count": 12,
     "metadata": {},
     "output_type": "execute_result"
    }
   ],
   "source": [
    "c = 0\n",
    "for csv_file in os.listdir(os.path.join(csv_dir_1d_current)):\n",
    "    print(csv_file)\n",
    "    c+= len(pd.read_csv(os.path.join(csv_dir_1d_current, csv_file)))\n",
    "c"
   ]
  },
  {
   "cell_type": "code",
   "execution_count": 3,
   "metadata": {},
   "outputs": [],
   "source": [
    "def split_csv(csv_name):\n",
    "    full_df = pd.read_csv(os.path.join(csv_dir_1d_current, csv_name))\n",
    "    # drop extra columns (all nan)\n",
    "    try:\n",
    "        full_df = full_df.drop(columns=['laser range 7', 'laser range 8', 'laser range 9',\n",
    "        'laser range 10', 'laser range 11', 'laser range 12'])\n",
    "    except:\n",
    "        pass\n",
    "\n",
    "    # split last 20% of data into test set\n",
    "    train_df = full_df.iloc[:int(len(full_df)*0.8)]\n",
    "    test_df = full_df.iloc[int(len(full_df)*0.8):]\n",
    "\n",
    "    train_df.to_csv(os.path.join(csv_dir_1d, 'train', f'{csv_name}'), index=False)\n",
    "    test_df.to_csv(os.path.join(csv_dir_1d, 'test', f'{csv_name}'), index=False)"
   ]
  },
  {
   "cell_type": "code",
   "execution_count": 6,
   "metadata": {},
   "outputs": [
    {
     "data": {
      "text/plain": [
       "['mnst_2_lnstd_10.csv',\n",
       " 'mnst_2_lnstd_1.csv',\n",
       " 'mnst_2_lnstd_0.01.csv',\n",
       " 'mnst_4_lnstd_0.01.csv',\n",
       " 'mnst_2_lnstd_0.1.csv',\n",
       " 'mnst_8_lnstd_0.01.csv']"
      ]
     },
     "execution_count": 6,
     "metadata": {},
     "output_type": "execute_result"
    }
   ],
   "source": [
    "csv_list_1d = os.listdir(csv_dir_1d_current)\n",
    "csv_list_1d"
   ]
  },
  {
   "cell_type": "code",
   "execution_count": 7,
   "metadata": {},
   "outputs": [],
   "source": [
    "os.makedirs(os.path.join(csv_dir_1d, 'train'), exist_ok=True)\n",
    "os.makedirs(os.path.join(csv_dir_1d, 'test'), exist_ok=True)"
   ]
  },
  {
   "cell_type": "code",
   "execution_count": 8,
   "metadata": {},
   "outputs": [],
   "source": [
    "for csv_name in csv_list_1d:\n",
    "    split_csv(csv_name)"
   ]
  },
  {
   "attachments": {},
   "cell_type": "markdown",
   "metadata": {},
   "source": [
    "## Combine CSVs for training"
   ]
  },
  {
   "cell_type": "code",
   "execution_count": 18,
   "metadata": {},
   "outputs": [],
   "source": [
    "merged_df = pd.DataFrame()\n",
    "\n",
    "for csv_name in os.listdir(os.path.join(csv_dir_1d, 'train')):\n",
    "    df = pd.read_csv(os.path.join(csv_dir_1d, 'train', csv_name))\n",
    "    merged_df = pd.concat([merged_df, df], ignore_index=True)\n",
    "\n",
    "merged_df.to_csv(os.path.join(csv_dir_1d, 'train', 'merged.csv'), index=False)"
   ]
  },
  {
   "attachments": {},
   "cell_type": "markdown",
   "metadata": {},
   "source": [
    "## 2D: Add alpha column"
   ]
  },
  {
   "cell_type": "code",
   "execution_count": 22,
   "metadata": {},
   "outputs": [],
   "source": [
    "csv_dir_path_2d = '/home/anees.hashmi/Desktop/kalmanfilters_nn/data/2D/generated_data'"
   ]
  },
  {
   "cell_type": "code",
   "execution_count": 33,
   "metadata": {},
   "outputs": [
    {
     "name": "stdout",
     "output_type": "stream",
     "text": [
      "generated_data_intel.csv\n",
      "generated_data_fbcampus.csv\n"
     ]
    }
   ],
   "source": [
    "csv_name = os.listdir(csv_dir_path_2d)[0]\n",
    "for csv_name  in os.listdir(csv_dir_path_2d):\n",
    "    df_2d = pd.read_csv(os.path.join(csv_dir_path_2d, csv_name))\n",
    "    if not 'alpha' in df_2d.columns:\n",
    "        df_2d['alpha'] = df_2d[df_2d.columns[0]].apply(lambda _: 4)\n",
    "        print(csv_name)\n",
    "        df_2d.to_csv(os.path.join(csv_dir_path_2d, csv_name), index=False)\n"
   ]
  },
  {
   "attachments": {},
   "cell_type": "markdown",
   "metadata": {},
   "source": [
    "## 2D: Merge the CSV"
   ]
  },
  {
   "cell_type": "code",
   "execution_count": 42,
   "metadata": {},
   "outputs": [],
   "source": [
    "merged_df = pd.DataFrame()\n",
    "\n",
    "for csv_name in os.listdir(os.path.join(csv_dir_path_2d)):\n",
    "    df = pd.read_csv(os.path.join(csv_dir_path_2d, csv_name))\n",
    "    merged_df = pd.concat([merged_df, df], ignore_index=True)\n",
    "\n",
    "merged_df.to_csv(os.path.join(csv_dir_path_2d, 'merged.csv'), index=False)"
   ]
  },
  {
   "attachments": {},
   "cell_type": "markdown",
   "metadata": {},
   "source": [
    "## Garbage"
   ]
  },
  {
   "cell_type": "code",
   "execution_count": 45,
   "metadata": {},
   "outputs": [],
   "source": [
    "c = 0 \n",
    "for train_csv in os.listdir(\"/home/anees.hashmi/Desktop/kalmanfilters_nn/data/2D/generated_data\"):\n",
    "    # print()\n",
    "    c+= len(pd.read_csv(os.path.join(\"/home/anees.hashmi/Desktop/kalmanfilters_nn/data/2D/generated_data\", train_csv)))"
   ]
  },
  {
   "cell_type": "code",
   "execution_count": 47,
   "metadata": {},
   "outputs": [
    {
     "data": {
      "text/plain": [
       "26216"
      ]
     },
     "execution_count": 47,
     "metadata": {},
     "output_type": "execute_result"
    }
   ],
   "source": [
    "c - 103760 "
   ]
  },
  {
   "cell_type": "code",
   "execution_count": null,
   "metadata": {},
   "outputs": [],
   "source": []
  }
 ],
 "metadata": {
  "kernelspec": {
   "display_name": "main",
   "language": "python",
   "name": "python3"
  },
  "language_info": {
   "codemirror_mode": {
    "name": "ipython",
    "version": 3
   },
   "file_extension": ".py",
   "mimetype": "text/x-python",
   "name": "python",
   "nbconvert_exporter": "python",
   "pygments_lexer": "ipython3",
   "version": "3.10.8"
  },
  "orig_nbformat": 4
 },
 "nbformat": 4,
 "nbformat_minor": 2
}
