{
 "cells": [
  {
   "cell_type": "code",
   "execution_count": 1,
   "metadata": {},
   "outputs": [],
   "source": [
    "import torch\n",
    "import torch.nn as nn"
   ]
  },
  {
   "cell_type": "code",
   "execution_count": null,
   "metadata": {},
   "outputs": [],
   "source": []
  },
  {
   "cell_type": "code",
   "execution_count": 2,
   "metadata": {},
   "outputs": [],
   "source": [
    "chkpoint = torch.load('logs/experiments_1D/LSTM/models/model_192_659.8709335327148.pth')"
   ]
  },
  {
   "cell_type": "code",
   "execution_count": 9,
   "metadata": {},
   "outputs": [
    {
     "data": {
      "text/plain": [
       "torch.Size([512, 9])"
      ]
     },
     "execution_count": 9,
     "metadata": {},
     "output_type": "execute_result"
    }
   ],
   "source": [
    "chkpoint['_base.lstm.weight_ih_l0'].shape"
   ]
  },
  {
   "cell_type": "code",
   "execution_count": null,
   "metadata": {},
   "outputs": [],
   "source": [
    "{\n",
    "    \"dir\": \"/home/anees.hashmi/Desktop/kalmanfilters_nn/logs/experiments_1D/LSTM/models/model_192_659.8709335327148.pth\",\n",
    "    \"hidden_size\": 512,\n",
    "    \"lr\": 0.0017556246933097342,\n",
    "    \"metric\": 1.5923599917441607,\n",
    "    \"num_layers\": 2,\n",
    "    \"sequence_length\": 56\n",
    "}"
   ]
  },
  {
   "cell_type": "code",
   "execution_count": 14,
   "metadata": {},
   "outputs": [
    {
     "name": "stdout",
     "output_type": "stream",
     "text": [
      "_base.lstm.weight_ih_l0 torch.Size([512, 9])\n",
      "_base.lstm.weight_hh_l0 torch.Size([512, 128])\n",
      "_base.lstm.bias_ih_l0 torch.Size([512])\n",
      "_base.lstm.bias_hh_l0 torch.Size([512])\n",
      "_base.lstm.weight_ih_l1 torch.Size([512, 128])\n",
      "_base.lstm.weight_hh_l1 torch.Size([512, 128])\n",
      "_base.lstm.bias_ih_l1 torch.Size([512])\n",
      "_base.lstm.bias_hh_l1 torch.Size([512])\n",
      "_base.fc.weight torch.Size([1, 128])\n",
      "_base.fc.bias torch.Size([1])\n"
     ]
    }
   ],
   "source": [
    "for i in chkpoint:\n",
    "    print(i, chkpoint[i].shape)"
   ]
  },
  {
   "cell_type": "code",
   "execution_count": null,
   "metadata": {},
   "outputs": [],
   "source": [
    "{\n",
    "    \"dir\": \"/home/anees.hashmi/Desktop/kalmanfilters_nn/logs/experiments_1D/RNN/models/model_188_1002.3156089782715.pth\",\n",
    "    \"hidden_size\": 32,\n",
    "    \"lr\": 0.0017556246933097342,\n",
    "    \"metric\": 1.5923599917441607,\n",
    "    \"num_layers\": 2,\n",
    "    \"sequence_length\": 56\n",
    "}"
   ]
  },
  {
   "cell_type": "code",
   "execution_count": 15,
   "metadata": {},
   "outputs": [
    {
     "name": "stdout",
     "output_type": "stream",
     "text": [
      "_base.rnn.weight_ih_l0 torch.Size([32, 9])\n",
      "_base.rnn.weight_hh_l0 torch.Size([32, 32])\n",
      "_base.rnn.bias_ih_l0 torch.Size([32])\n",
      "_base.rnn.bias_hh_l0 torch.Size([32])\n",
      "_base.rnn.weight_ih_l1 torch.Size([32, 32])\n",
      "_base.rnn.weight_hh_l1 torch.Size([32, 32])\n",
      "_base.rnn.bias_ih_l1 torch.Size([32])\n",
      "_base.rnn.bias_hh_l1 torch.Size([32])\n",
      "_base.fc.weight torch.Size([1, 32])\n",
      "_base.fc.bias torch.Size([1])\n"
     ]
    }
   ],
   "source": [
    "chkpoint2 = torch.load('/home/anees.hashmi/Desktop/kalmanfilters_nn/logs/experiments_1D/RNN/models/model_188_1002.3156089782715.pth')\n",
    "\n",
    "for i in chkpoint2:\n",
    "    print(i, chkpoint2[i].shape)"
   ]
  },
  {
   "cell_type": "code",
   "execution_count": 17,
   "metadata": {},
   "outputs": [],
   "source": [
    "from model import RNN,  Base\n",
    "import os"
   ]
  },
  {
   "cell_type": "code",
   "execution_count": null,
   "metadata": {},
   "outputs": [],
   "source": [
    "chkpoint['model_name'] = LSTm"
   ]
  },
  {
   "cell_type": "code",
   "execution_count": null,
   "metadata": {},
   "outputs": [],
   "source": [
    "def load_model(params):\n",
    "    print(f'Loading {params[\"model_name\"]} model...')\n",
    "    model = Base(input_size=params['input_size'], \n",
    "                hidden_size = params[\"hidden_size\"],\n",
    "                num_layers = params[\"num_layers\"],\n",
    "                output_size=1 if params['data_dim'] == 1 else 3,\n",
    "                model = params['model_name']\n",
    "                )\n",
    "\n",
    "    # last_checkpoint = 'model_191_0.00757762653609881.pth'\n",
    "    # last_checkpoint = 'model_132_0.05770279822441248.pth' # lstm ln\n",
    "    # last_checkpoint = \"model_191_917.6316366195679.pth\"\n",
    "    # last_checkpoint = params['dir']\n",
    "\n",
    "    # print(f'Loading model: {last_checkpoint} from {params[\"dir\"]}...')\n",
    "    if os.path.isdir(params['dir']):\n",
    "        chkpoints_list = [i for i in os.listdir(params['dir']) if i.startswith(\"checkpoint\")]\n",
    "        last_checkpoint = sorted(chkpoints_list, key=lambda x: int(x.split('_')[-1]))[-1]\n",
    "        chkpoint_state_dict, optim = torch.load(os.path.join(params['dir'], last_checkpoint, 'checkpoint'))\n",
    "\n",
    "    else:\n",
    "        chkpoint_state_dict = torch.load(os.path.join(params['dir']))\n",
    "    model.load_state_dict(chkpoint_state_dict)\n",
    "    return model"
   ]
  },
  {
   "cell_type": "code",
   "execution_count": null,
   "metadata": {},
   "outputs": [],
   "source": []
  }
 ],
 "metadata": {
  "kernelspec": {
   "display_name": "main",
   "language": "python",
   "name": "python3"
  },
  "language_info": {
   "codemirror_mode": {
    "name": "ipython",
    "version": 3
   },
   "file_extension": ".py",
   "mimetype": "text/x-python",
   "name": "python",
   "nbconvert_exporter": "python",
   "pygments_lexer": "ipython3",
   "version": "3.10.8"
  },
  "orig_nbformat": 4
 },
 "nbformat": 4,
 "nbformat_minor": 2
}
